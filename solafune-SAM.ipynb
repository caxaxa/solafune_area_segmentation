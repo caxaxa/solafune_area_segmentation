{
 "cells": [
  {
   "cell_type": "code",
   "execution_count": 1,
   "id": "99be159b-2961-4417-a2be-1b12460067e9",
   "metadata": {},
   "outputs": [],
   "source": [
    "!rm -rf /opt/conda/lib/python3.10/site-packages/fsspec*"
   ]
  },
  {
   "cell_type": "code",
   "execution_count": 2,
   "id": "dd31b2b6-b0bf-45a5-83c7-4cae29acb4df",
   "metadata": {},
   "outputs": [
    {
     "name": "stdout",
     "output_type": "stream",
     "text": [
      "Collecting fsspec==2024.6.1\n",
      "  Using cached fsspec-2024.6.1-py3-none-any.whl.metadata (11 kB)\n",
      "Using cached fsspec-2024.6.1-py3-none-any.whl (177 kB)\n",
      "Installing collected packages: fsspec\n",
      "Successfully installed fsspec-2024.6.1\n"
     ]
    }
   ],
   "source": [
    "!pip install fsspec==2024.6.1 --force-reinstall --no-deps\n",
    "\n"
   ]
  },
  {
   "cell_type": "code",
   "execution_count": 5,
   "id": "17ac5937-1127-4f67-afd7-0c8d47944c5b",
   "metadata": {},
   "outputs": [
    {
     "name": "stdout",
     "output_type": "stream",
     "text": [
      "Name: SAM-2\n",
      "Version: 1.0\n",
      "Summary: SAM 2: Segment Anything in Images and Videos\n",
      "Home-page: https://github.com/facebookresearch/segment-anything-2\n",
      "Author: Meta AI\n",
      "Author-email: segment-anything@meta.com\n",
      "License: Apache 2.0\n",
      "Location: /opt/conda/lib/python3.10/site-packages\n",
      "Editable project location: /home/sagemaker-user/solafune_area_segmentation/segment-anything-2\n",
      "Requires: hydra-core, iopath, numpy, pillow, torch, torchvision, tqdm\n",
      "Required-by: \n"
     ]
    }
   ],
   "source": [
    "#Check If SAM is correctly installed\n",
    "!pip show SAM-2"
   ]
  },
  {
   "cell_type": "code",
   "execution_count": 6,
   "id": "87c191d6-bf7a-4496-8f07-fbbc11b9b567",
   "metadata": {},
   "outputs": [
    {
     "ename": "ModuleNotFoundError",
     "evalue": "No module named 'segment_anything'",
     "output_type": "error",
     "traceback": [
      "\u001b[0;31m---------------------------------------------------------------------------\u001b[0m",
      "\u001b[0;31mModuleNotFoundError\u001b[0m                       Traceback (most recent call last)",
      "Cell \u001b[0;32mIn[6], line 2\u001b[0m\n\u001b[1;32m      1\u001b[0m \u001b[38;5;28;01mimport\u001b[39;00m \u001b[38;5;21;01mtorch\u001b[39;00m\n\u001b[0;32m----> 2\u001b[0m \u001b[38;5;28;01mfrom\u001b[39;00m \u001b[38;5;21;01msegment_anything\u001b[39;00m \u001b[38;5;28;01mimport\u001b[39;00m sam_model_registry, SamPredictor\n\u001b[1;32m      4\u001b[0m \u001b[38;5;28mprint\u001b[39m(\u001b[38;5;124m\"\u001b[39m\u001b[38;5;124mSAM2 installed successfully!\u001b[39m\u001b[38;5;124m\"\u001b[39m)\n",
      "\u001b[0;31mModuleNotFoundError\u001b[0m: No module named 'segment_anything'"
     ]
    }
   ],
   "source": [
    "import torch\n",
    "from segment_anything import sam_model_registry, SamPredictor\n",
    "\n",
    "print(\"SAM2 installed successfully!\")\n"
   ]
  },
  {
   "cell_type": "code",
   "execution_count": null,
   "id": "da93225a-5331-40e1-bc07-cf2c51f5d22d",
   "metadata": {},
   "outputs": [],
   "source": []
  },
  {
   "cell_type": "code",
   "execution_count": null,
   "id": "ee25c965-86d3-43c0-aca9-9577b6c24415",
   "metadata": {},
   "outputs": [],
   "source": []
  },
  {
   "cell_type": "code",
   "execution_count": 1,
   "id": "b8028537",
   "metadata": {},
   "outputs": [],
   "source": [
    "!rm -rf /opt/conda/lib/python3.10/site-packages/fsspec*"
   ]
  },
  {
   "cell_type": "code",
   "execution_count": 2,
   "id": "c772a3a1",
   "metadata": {},
   "outputs": [
    {
     "name": "stdout",
     "output_type": "stream",
     "text": [
      "Collecting fsspec==2024.6.1\n",
      "  Using cached fsspec-2024.6.1-py3-none-any.whl.metadata (11 kB)\n",
      "Using cached fsspec-2024.6.1-py3-none-any.whl (177 kB)\n",
      "Installing collected packages: fsspec\n",
      "Successfully installed fsspec-2024.6.1\n"
     ]
    }
   ],
   "source": [
    "!pip install fsspec==2024.6.1 --force-reinstall --no-deps\n",
    "\n"
   ]
  },
  {
   "cell_type": "code",
   "execution_count": 3,
   "id": "e9af44a6",
   "metadata": {},
   "outputs": [
    {
     "name": "stdout",
     "output_type": "stream",
     "text": [
      "Collecting git+https://github.com/facebookresearch/segment-anything-2.git@main\n",
      "  Cloning https://github.com/facebookresearch/segment-anything-2.git (to revision main) to /tmp/pip-req-build-v91g5kt7\n",
      "  Running command git clone --filter=blob:none --quiet https://github.com/facebookresearch/segment-anything-2.git /tmp/pip-req-build-v91g5kt7\n",
      "  Resolved https://github.com/facebookresearch/segment-anything-2.git to commit 778e1127404547429b281d9c9394ddb3652b85a5\n",
      "  Installing build dependencies ... \u001b[?25ldone\n",
      "\u001b[?25h  Getting requirements to build wheel ... \u001b[?25ldone\n",
      "\u001b[?25h  Preparing metadata (pyproject.toml) ... \u001b[?25ldone\n",
      "\u001b[?25hRequirement already satisfied: torch>=2.3.1 in /opt/conda/lib/python3.10/site-packages (from SAM-2==1.0) (2.4.0+cu118)\n",
      "Requirement already satisfied: torchvision>=0.18.1 in /opt/conda/lib/python3.10/site-packages (from SAM-2==1.0) (0.19.0+cu118)\n",
      "Requirement already satisfied: numpy>=1.24.4 in /opt/conda/lib/python3.10/site-packages (from SAM-2==1.0) (1.26.3)\n",
      "Requirement already satisfied: tqdm>=4.66.1 in /opt/conda/lib/python3.10/site-packages (from SAM-2==1.0) (4.66.4)\n",
      "Requirement already satisfied: hydra-core>=1.3.2 in /opt/conda/lib/python3.10/site-packages (from SAM-2==1.0) (1.3.2)\n",
      "Requirement already satisfied: iopath>=0.1.10 in /opt/conda/lib/python3.10/site-packages (from SAM-2==1.0) (0.1.10)\n",
      "Requirement already satisfied: pillow>=9.4.0 in /opt/conda/lib/python3.10/site-packages (from SAM-2==1.0) (10.2.0)\n",
      "Requirement already satisfied: omegaconf<2.4,>=2.2 in /opt/conda/lib/python3.10/site-packages (from hydra-core>=1.3.2->SAM-2==1.0) (2.2.3)\n",
      "Requirement already satisfied: antlr4-python3-runtime==4.9.* in /opt/conda/lib/python3.10/site-packages (from hydra-core>=1.3.2->SAM-2==1.0) (4.9.3)\n",
      "Requirement already satisfied: packaging in /opt/conda/lib/python3.10/site-packages (from hydra-core>=1.3.2->SAM-2==1.0) (23.2)\n",
      "Requirement already satisfied: typing-extensions in /opt/conda/lib/python3.10/site-packages (from iopath>=0.1.10->SAM-2==1.0) (4.12.2)\n",
      "Requirement already satisfied: portalocker in /opt/conda/lib/python3.10/site-packages (from iopath>=0.1.10->SAM-2==1.0) (2.10.1)\n",
      "Requirement already satisfied: filelock in /opt/conda/lib/python3.10/site-packages (from torch>=2.3.1->SAM-2==1.0) (3.13.1)\n",
      "Requirement already satisfied: sympy in /opt/conda/lib/python3.10/site-packages (from torch>=2.3.1->SAM-2==1.0) (1.12.1)\n",
      "Requirement already satisfied: networkx in /opt/conda/lib/python3.10/site-packages (from torch>=2.3.1->SAM-2==1.0) (3.2.1)\n",
      "Requirement already satisfied: jinja2 in /opt/conda/lib/python3.10/site-packages (from torch>=2.3.1->SAM-2==1.0) (3.1.3)\n",
      "Requirement already satisfied: fsspec in /opt/conda/lib/python3.10/site-packages (from torch>=2.3.1->SAM-2==1.0) (2024.6.1)\n",
      "Requirement already satisfied: nvidia-cuda-nvrtc-cu11==11.8.89 in /opt/conda/lib/python3.10/site-packages (from torch>=2.3.1->SAM-2==1.0) (11.8.89)\n",
      "Requirement already satisfied: nvidia-cuda-runtime-cu11==11.8.89 in /opt/conda/lib/python3.10/site-packages (from torch>=2.3.1->SAM-2==1.0) (11.8.89)\n",
      "Requirement already satisfied: nvidia-cuda-cupti-cu11==11.8.87 in /opt/conda/lib/python3.10/site-packages (from torch>=2.3.1->SAM-2==1.0) (11.8.87)\n",
      "Requirement already satisfied: nvidia-cudnn-cu11==9.1.0.70 in /opt/conda/lib/python3.10/site-packages (from torch>=2.3.1->SAM-2==1.0) (9.1.0.70)\n",
      "Requirement already satisfied: nvidia-cublas-cu11==11.11.3.6 in /opt/conda/lib/python3.10/site-packages (from torch>=2.3.1->SAM-2==1.0) (11.11.3.6)\n",
      "Requirement already satisfied: nvidia-cufft-cu11==10.9.0.58 in /opt/conda/lib/python3.10/site-packages (from torch>=2.3.1->SAM-2==1.0) (10.9.0.58)\n",
      "Requirement already satisfied: nvidia-curand-cu11==10.3.0.86 in /opt/conda/lib/python3.10/site-packages (from torch>=2.3.1->SAM-2==1.0) (10.3.0.86)\n",
      "Requirement already satisfied: nvidia-cusolver-cu11==11.4.1.48 in /opt/conda/lib/python3.10/site-packages (from torch>=2.3.1->SAM-2==1.0) (11.4.1.48)\n",
      "Requirement already satisfied: nvidia-cusparse-cu11==11.7.5.86 in /opt/conda/lib/python3.10/site-packages (from torch>=2.3.1->SAM-2==1.0) (11.7.5.86)\n",
      "Requirement already satisfied: nvidia-nccl-cu11==2.20.5 in /opt/conda/lib/python3.10/site-packages (from torch>=2.3.1->SAM-2==1.0) (2.20.5)\n",
      "Requirement already satisfied: nvidia-nvtx-cu11==11.8.86 in /opt/conda/lib/python3.10/site-packages (from torch>=2.3.1->SAM-2==1.0) (11.8.86)\n",
      "Requirement already satisfied: triton==3.0.0 in /opt/conda/lib/python3.10/site-packages (from torch>=2.3.1->SAM-2==1.0) (3.0.0)\n",
      "Requirement already satisfied: PyYAML>=5.1.0 in /opt/conda/lib/python3.10/site-packages (from omegaconf<2.4,>=2.2->hydra-core>=1.3.2->SAM-2==1.0) (6.0.1)\n",
      "Requirement already satisfied: MarkupSafe>=2.0 in /opt/conda/lib/python3.10/site-packages (from jinja2->torch>=2.3.1->SAM-2==1.0) (2.1.5)\n",
      "Requirement already satisfied: mpmath<1.4.0,>=1.1.0 in /opt/conda/lib/python3.10/site-packages (from sympy->torch>=2.3.1->SAM-2==1.0) (1.3.0)\n"
     ]
    }
   ],
   "source": [
    "!pip install git+https://github.com/facebookresearch/segment-anything-2.git@main\n"
   ]
  },
  {
   "cell_type": "code",
   "execution_count": 7,
   "id": "ee70a93c",
   "metadata": {},
   "outputs": [
    {
     "name": "stdout",
     "output_type": "stream",
     "text": [
      "Name: SAM-2\n",
      "Version: 1.0\n",
      "Summary: SAM 2: Segment Anything in Images and Videos\n",
      "Home-page: https://github.com/facebookresearch/segment-anything-2\n",
      "Author: Meta AI\n",
      "Author-email: segment-anything@meta.com\n",
      "License: Apache 2.0\n",
      "Location: /opt/conda/lib/python3.10/site-packages\n",
      "Requires: hydra-core, iopath, numpy, pillow, torch, torchvision, tqdm\n",
      "Required-by: \n"
     ]
    }
   ],
   "source": [
    "!pip show SAM-2"
   ]
  },
  {
   "cell_type": "code",
   "execution_count": 10,
   "id": "20cb634d",
   "metadata": {},
   "outputs": [
    {
     "name": "stdout",
     "output_type": "stream",
     "text": [
      "/bin/bash: line 1: cd: segment-anything-2: No such file or directory\n",
      "Obtaining file:///home/sagemaker-user/solafune_area_segmentation\n",
      "\u001b[31mERROR: file:///home/sagemaker-user/solafune_area_segmentation does not appear to be a Python project: neither 'setup.py' nor 'pyproject.toml' found.\u001b[0m\u001b[31m\n",
      "\u001b[0m"
     ]
    }
   ],
   "source": [
    "!cd segment-anything-2; pip install -e ."
   ]
  },
  {
   "cell_type": "code",
   "execution_count": 9,
   "id": "83165eed",
   "metadata": {},
   "outputs": [
    {
     "ename": "ModuleNotFoundError",
     "evalue": "No module named 'segment_anything'",
     "output_type": "error",
     "traceback": [
      "\u001b[0;31m---------------------------------------------------------------------------\u001b[0m",
      "\u001b[0;31mModuleNotFoundError\u001b[0m                       Traceback (most recent call last)",
      "Cell \u001b[0;32mIn[9], line 2\u001b[0m\n\u001b[1;32m      1\u001b[0m \u001b[38;5;28;01mimport\u001b[39;00m \u001b[38;5;21;01mtorch\u001b[39;00m\n\u001b[0;32m----> 2\u001b[0m \u001b[38;5;28;01mfrom\u001b[39;00m \u001b[38;5;21;01msegment_anything\u001b[39;00m \u001b[38;5;28;01mimport\u001b[39;00m sam_model_registry, SamPredictor\n\u001b[1;32m      4\u001b[0m \u001b[38;5;28mprint\u001b[39m(\u001b[38;5;124m\"\u001b[39m\u001b[38;5;124mSAM2 installed successfully!\u001b[39m\u001b[38;5;124m\"\u001b[39m)\n",
      "\u001b[0;31mModuleNotFoundError\u001b[0m: No module named 'segment_anything'"
     ]
    }
   ],
   "source": [
    "import torch\n",
    "from segment_anything import sam_model_registry, SamPredictor\n",
    "\n",
    "print(\"SAM2 installed successfully!\")\n"
   ]
  },
  {
   "cell_type": "code",
   "execution_count": null,
   "id": "64a48f96",
   "metadata": {},
   "outputs": [],
   "source": []
  },
  {
   "cell_type": "code",
   "execution_count": null,
   "id": "1f9aa5f4",
   "metadata": {},
   "outputs": [],
   "source": []
  }
 ],
 "metadata": {
  "kernelspec": {
   "display_name": "Python 3 (ipykernel)",
   "language": "python",
   "name": "python3"
  },
  "language_info": {
   "codemirror_mode": {
    "name": "ipython",
    "version": 3
   },
   "file_extension": ".py",
   "mimetype": "text/x-python",
   "name": "python",
   "nbconvert_exporter": "python",
   "pygments_lexer": "ipython3",
   "version": "3.10.14"
  }
 },
 "nbformat": 4,
 "nbformat_minor": 5
}
